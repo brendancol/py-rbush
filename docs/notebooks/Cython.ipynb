{
 "cells": [
  {
   "cell_type": "markdown",
   "metadata": {},
   "source": [
    "[Cython]: http://cython.org/\n",
    "[docs]: http://docs.cython.org/en/latest/src/quickstart/index.html\n",
    "[wiki]: https://github.com/cython/cython/wiki\n",
    "\n",
    "[tutorial]: http://conference.scipy.org/proceedings/SciPy2009/paper_1/full_text.pdf\n",
    "[numerical calculations]: http://conference.scipy.org/proceedings/SciPy2009/paper_2/full_text.pdf\n",
    "[tinyr]: https://code.google.com/archive/p/tinyr/\n",
    "\n",
    "\n",
    "# Cython\n",
    "\n",
    "We now will try [Cython] as a solution to speedup our RBush ([docs], [wiki]).\n",
    "Cython is a superset of Python, where special syntax can be used to call C-level functions and to compile the \\*ython code as C.\n",
    "Cython claims that by using the cython compiler engine even pure-python code can benefit (even if slightly) from (use of C) optimizations.\n",
    "\n",
    "Two documents should help us start this journey, the Cython [tutorial] by *S. Behnel, R.W. Bradshaw & D.S. Seljebotn* and a benchmark on [numerical calculations] done by *Dag Sverre Seljebotn*.\n",
    "We also take [tinyr], an implementation of a r-tree, as our starting point.\n",
    "\n",
    "If you're using Anaconda, Cython is available through the default channel for install."
   ]
  },
  {
   "cell_type": "markdown",
   "metadata": {},
   "source": [
    "[Sage]: http://www.sagemath.org/\n",
    "\n",
    "## Cython tutorial\n",
    "\n",
    "From the tutorial we learn the following.\n",
    "\n",
    "Cython code can be compiled using:\n",
    "* `setup.py` setup (what we will eventually use);\n",
    "* `pyximport` to call cython' `pyx` files as if they were `py` modules and have compilation done in the background;\n",
    "* pre-compile the code with `cython` command-line utility (most for debugging/tests);\n",
    "* by using [Sage] notebooks, which allows Cython code inline (most for experimentation).\n",
    "\n"
   ]
  },
  {
   "cell_type": "markdown",
   "metadata": {},
   "source": [
    "## `tinyr`\n",
    "\n",
    "From `tinyr.pyc` we have the following:\n",
    "\n",
    "* function definition:\n",
    "```python\n",
    "cdef tuple array_to_tuple_interleaved(Dfloat *coords):\n",
    "    return tuple([ coords[i] for i in range(4)])\n",
    "```\n",
    "    \n",
    "* variable declaration:\n",
    "```python\n",
    "cdef inline void common_boundaries(list records, Dfloat *target):\n",
    "    cdef:\n",
    "        Dfloat *coords\n",
    "        _Record r\n",
    "```\n",
    "\n",
    "* forward declaration:\n",
    "```python\n",
    "cdef class _Record\n",
    "```\n",
    "\n",
    "* tyde definition:\n",
    "```python\n",
    "ctypedef double Dfloat\n",
    "```\n",
    "\n",
    "* declare a class:\n",
    "```python\n",
    "cdef class _Record:\n",
    "    cdef:\n",
    "        Dfloat coords[4]\n",
    "\n",
    "    cdef inline bint overlaps(self, Dfloat *rect):\n",
    "        return self.coords[0] < rect[2] and self.coords[2] > rect[0] and self.coords[1] < rect[3] and self.coords[3] > rect[1]\n",
    "    \n",
    "    cdef inline void copy_coords_to(self, Dfloat *coords):\n",
    "        for i in range(4):\n",
    "            coords[i] = self.coords[i]\n",
    "    \n",
    "    cdef _Record copy(self, _Node newparent):\n",
    "        raise NotImplemented\n",
    "```\n",
    "\n"
   ]
  },
  {
   "cell_type": "code",
   "execution_count": null,
   "metadata": {},
   "outputs": [],
   "source": []
  }
 ],
 "metadata": {
  "kernelspec": {
   "display_name": "Python 3",
   "language": "python",
   "name": "python3"
  },
  "language_info": {
   "codemirror_mode": {
    "name": "ipython",
    "version": 3
   },
   "file_extension": ".py",
   "mimetype": "text/x-python",
   "name": "python",
   "nbconvert_exporter": "python",
   "pygments_lexer": "ipython3",
   "version": "3.6.2"
  }
 },
 "nbformat": 4,
 "nbformat_minor": 2
}
