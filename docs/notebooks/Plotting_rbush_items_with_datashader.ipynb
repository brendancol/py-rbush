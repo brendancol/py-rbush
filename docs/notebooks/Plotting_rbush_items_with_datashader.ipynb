{
 "cells": [
  {
   "cell_type": "markdown",
   "metadata": {},
   "source": [
    "# Plotting RBush\n",
    "\n",
    "We want to see the structure of a RBush -- we want to plot the 2D spatial distribution of the items in a RBush tree.\n",
    "\n",
    "We'll do that using [datashader][ds] and its companions, [xarray][xr], [bokeh][bk], [holoviews][hv], [pandas][pd], [numpy][np].\n",
    "\n",
    "This exercise is based on:\n",
    "* https://anaconda.org/jbednar/plotting_pitfalls/notebook\n",
    "* https://anaconda.org/jbednar/pipeline/notebook\n",
    "\n",
    "After a first approach, investigate/exercise the following:\n",
    "* does bokeh-webgl engine support Rectangle glyph?\n",
    "\n",
    "\n",
    "[ds]: http://datashader.readthedocs.io/\n",
    "[xr]: http://xarray.pydata.org/\n",
    "[bk]: https://bokeh.pydata.org\n",
    "[hv]: http://holoviews.org/\n",
    "[pd]: https://pandas.pydata.org/\n",
    "[np]: http://www.numpy.org/"
   ]
  },
  {
   "cell_type": "code",
   "execution_count": 1,
   "metadata": {},
   "outputs": [],
   "source": [
    "import datashader as ds\n",
    "import xarray as xr\n",
    "import bokeh as bk\n",
    "import pandas as pd\n",
    "import numpy as np"
   ]
  },
  {
   "cell_type": "code",
   "execution_count": 2,
   "metadata": {},
   "outputs": [
    {
     "name": "stdout",
     "output_type": "stream",
     "text": [
      "0.6.2\n",
      "0.10.0\n",
      "0.12.13\n",
      "0.20.3\n",
      "1.13.1\n"
     ]
    }
   ],
   "source": [
    "print(ds.__version__)\n",
    "print(xr.__version__)\n",
    "print(bk.__version__)\n",
    "print(pd.__version__)\n",
    "print(np.__version__)"
   ]
  },
  {
   "cell_type": "markdown",
   "metadata": {},
   "source": [
    "[RBush](https://github.com/parietal-io/py-rbush)\n",
    "```\n",
    "rbush.__version__ : '0.0.2+9.g355496a'\n",
    "```"
   ]
  },
  {
   "cell_type": "code",
   "execution_count": 3,
   "metadata": {},
   "outputs": [],
   "source": [
    "import rbush"
   ]
  },
  {
   "cell_type": "code",
   "execution_count": 4,
   "metadata": {},
   "outputs": [],
   "source": [
    "from rbush.data import generate_data_array\n",
    "\n",
    "N = 1000\n",
    "\n",
    "data = generate_data_array(N,10)"
   ]
  },
  {
   "cell_type": "code",
   "execution_count": 5,
   "metadata": {},
   "outputs": [
    {
     "data": {
      "text/plain": [
       "<rbush.core.RBush at 0x112559080>"
      ]
     },
     "execution_count": 5,
     "metadata": {},
     "output_type": "execute_result"
    }
   ],
   "source": [
    "t = rbush.RBush()\n",
    "t.load(data)"
   ]
  },
  {
   "cell_type": "code",
   "execution_count": 6,
   "metadata": {},
   "outputs": [],
   "source": [
    "items = t.all()\n",
    "\n",
    "# TODO: \"retrieve-all\" output should be an array (like the input 'data', apart from permutations)\n",
    "\n",
    "bboxes = np.asarray([[i.xmin, i.ymin, i.xmax, i.ymax] for i in items])"
   ]
  },
  {
   "cell_type": "code",
   "execution_count": 7,
   "metadata": {},
   "outputs": [],
   "source": [
    "# Apart from (raw) permutations, 'data' and 'bboxes' should contain the same information\n",
    "assert data.shape==bboxes.shape"
   ]
  },
  {
   "cell_type": "code",
   "execution_count": 8,
   "metadata": {},
   "outputs": [
    {
     "name": "stdout",
     "output_type": "stream",
     "text": [
      "[-226.96134082 -262.14969374 -216.96134082 -252.14969374]\n",
      "[ 271.6729232   321.36839756  281.6729232   331.36839756]\n",
      "[  6.02554248   1.90276096  16.02554248  11.90276096]\n"
     ]
    }
   ],
   "source": [
    "print(data.min(axis=0))\n",
    "print(data.max(axis=0))\n",
    "print(data.mean(axis=0))"
   ]
  },
  {
   "cell_type": "code",
   "execution_count": 9,
   "metadata": {},
   "outputs": [
    {
     "name": "stdout",
     "output_type": "stream",
     "text": [
      "[-203.43923905 -226.87037457 -193.43923905 -216.87037457]\n",
      "[ 68.13575451   3.5929943   78.13575451  13.5929943 ]\n",
      "[-147.52302615 -151.24284665 -137.52302615 -141.24284665]\n"
     ]
    }
   ],
   "source": [
    "print(bboxes.min(axis=0))\n",
    "print(bboxes.max(axis=0))\n",
    "print(bboxes.mean(axis=0))"
   ]
  },
  {
   "cell_type": "markdown",
   "metadata": {},
   "source": [
    "**We see now that BBush has a (big) bug!** To not deviate from our exercise, let's use the `data` array, it's the same structure (as `bboxes`)"
   ]
  },
  {
   "cell_type": "markdown",
   "metadata": {},
   "source": [
    "Datashader works in a canvas represented by an `xarray` where each element is a bin.\n",
    "The bin represents a pixel in a (data) coordinates system.\n",
    "Each bin contains information aggregated from the dataset(s) at that (pixel) position.\n",
    "\n",
    "Let's say we want to count the number of items (bounding-boxes in our dataset) that cover each position in the dataset parameters space (xmin,ymin,xmax,ymax) -- a heatmap of the items distribution.\n",
    "Each bin in the datashader (xarray) canvas will contain the number counts.\n",
    "\n",
    "As a first approach, let's do the representation of items' centroids.\n",
    "Then we evolve to plotting the boxes' coverage area."
   ]
  },
  {
   "cell_type": "code",
   "execution_count": 10,
   "metadata": {},
   "outputs": [],
   "source": [
    "df = pd.DataFrame(data, columns=['xmin','ymin','xmax','ymax'])\n",
    "df['x'] = df[['xmin','xmax']].mean(axis=1)\n",
    "df['y'] = df[['ymin','ymax']].mean(axis=1)"
   ]
  },
  {
   "cell_type": "code",
   "execution_count": 11,
   "metadata": {},
   "outputs": [
    {
     "data": {
      "text/html": [
       "<div>\n",
       "<style>\n",
       "    .dataframe thead tr:only-child th {\n",
       "        text-align: right;\n",
       "    }\n",
       "\n",
       "    .dataframe thead th {\n",
       "        text-align: left;\n",
       "    }\n",
       "\n",
       "    .dataframe tbody tr th {\n",
       "        vertical-align: top;\n",
       "    }\n",
       "</style>\n",
       "<table border=\"1\" class=\"dataframe\">\n",
       "  <thead>\n",
       "    <tr style=\"text-align: right;\">\n",
       "      <th></th>\n",
       "      <th>xmin</th>\n",
       "      <th>ymin</th>\n",
       "      <th>xmax</th>\n",
       "      <th>ymax</th>\n",
       "      <th>x</th>\n",
       "      <th>y</th>\n",
       "    </tr>\n",
       "  </thead>\n",
       "  <tbody>\n",
       "    <tr>\n",
       "      <th>count</th>\n",
       "      <td>1000.000000</td>\n",
       "      <td>1000.000000</td>\n",
       "      <td>1000.000000</td>\n",
       "      <td>1000.000000</td>\n",
       "      <td>1000.000000</td>\n",
       "      <td>1000.000000</td>\n",
       "    </tr>\n",
       "    <tr>\n",
       "      <th>mean</th>\n",
       "      <td>6.025542</td>\n",
       "      <td>1.902761</td>\n",
       "      <td>16.025542</td>\n",
       "      <td>11.902761</td>\n",
       "      <td>11.025542</td>\n",
       "      <td>6.902761</td>\n",
       "    </tr>\n",
       "    <tr>\n",
       "      <th>std</th>\n",
       "      <td>88.756705</td>\n",
       "      <td>90.262699</td>\n",
       "      <td>88.756705</td>\n",
       "      <td>90.262699</td>\n",
       "      <td>88.756705</td>\n",
       "      <td>90.262699</td>\n",
       "    </tr>\n",
       "    <tr>\n",
       "      <th>min</th>\n",
       "      <td>-226.961341</td>\n",
       "      <td>-262.149694</td>\n",
       "      <td>-216.961341</td>\n",
       "      <td>-252.149694</td>\n",
       "      <td>-221.961341</td>\n",
       "      <td>-257.149694</td>\n",
       "    </tr>\n",
       "    <tr>\n",
       "      <th>25%</th>\n",
       "      <td>-55.549499</td>\n",
       "      <td>-59.328102</td>\n",
       "      <td>-45.549499</td>\n",
       "      <td>-49.328102</td>\n",
       "      <td>-50.549499</td>\n",
       "      <td>-54.328102</td>\n",
       "    </tr>\n",
       "    <tr>\n",
       "      <th>50%</th>\n",
       "      <td>7.431992</td>\n",
       "      <td>3.535017</td>\n",
       "      <td>17.431992</td>\n",
       "      <td>13.535017</td>\n",
       "      <td>12.431992</td>\n",
       "      <td>8.535017</td>\n",
       "    </tr>\n",
       "    <tr>\n",
       "      <th>75%</th>\n",
       "      <td>65.384806</td>\n",
       "      <td>60.569098</td>\n",
       "      <td>75.384806</td>\n",
       "      <td>70.569098</td>\n",
       "      <td>70.384806</td>\n",
       "      <td>65.569098</td>\n",
       "    </tr>\n",
       "    <tr>\n",
       "      <th>max</th>\n",
       "      <td>271.672923</td>\n",
       "      <td>321.368398</td>\n",
       "      <td>281.672923</td>\n",
       "      <td>331.368398</td>\n",
       "      <td>276.672923</td>\n",
       "      <td>326.368398</td>\n",
       "    </tr>\n",
       "  </tbody>\n",
       "</table>\n",
       "</div>"
      ],
      "text/plain": [
       "              xmin         ymin         xmax         ymax            x  \\\n",
       "count  1000.000000  1000.000000  1000.000000  1000.000000  1000.000000   \n",
       "mean      6.025542     1.902761    16.025542    11.902761    11.025542   \n",
       "std      88.756705    90.262699    88.756705    90.262699    88.756705   \n",
       "min    -226.961341  -262.149694  -216.961341  -252.149694  -221.961341   \n",
       "25%     -55.549499   -59.328102   -45.549499   -49.328102   -50.549499   \n",
       "50%       7.431992     3.535017    17.431992    13.535017    12.431992   \n",
       "75%      65.384806    60.569098    75.384806    70.569098    70.384806   \n",
       "max     271.672923   321.368398   281.672923   331.368398   276.672923   \n",
       "\n",
       "                 y  \n",
       "count  1000.000000  \n",
       "mean      6.902761  \n",
       "std      90.262699  \n",
       "min    -257.149694  \n",
       "25%     -54.328102  \n",
       "50%       8.535017  \n",
       "75%      65.569098  \n",
       "max     326.368398  "
      ]
     },
     "execution_count": 11,
     "metadata": {},
     "output_type": "execute_result"
    }
   ],
   "source": [
    "df.describe()"
   ]
  },
  {
   "cell_type": "code",
   "execution_count": 12,
   "metadata": {},
   "outputs": [],
   "source": [
    "# We will represent centroids\n",
    "\n",
    "glyph = ds.glyphs.Point('x', 'y')"
   ]
  },
  {
   "cell_type": "code",
   "execution_count": 13,
   "metadata": {},
   "outputs": [],
   "source": [
    "# Say we want to see in a resolution of \"1 data-unit\" of the (variable) data axes range\n",
    "xres = 1\n",
    "yres = 1\n",
    "\n",
    "xlims = [int(df.xmin.min()), int(df.xmax.max()+1)]\n",
    "ylims = [int(df.ymin.min()), int(df.ymax.max()+1)]\n",
    "\n",
    "xsize = (xlims[1] - xlims[0])//xres\n",
    "ysize = (ylims[1] - ylims[0])//yres\n",
    "\n",
    "def def_pos2pix(pmin,res):\n",
    "    pos_zero = int(pmin/res)\n",
    "    def f(pos):\n",
    "        return int(pos/res) - pos_zero\n",
    "    return f\n",
    "\n",
    "def def_pix2pos(pmin,res):\n",
    "    def f(pix):\n",
    "        return pix*res + pmin\n",
    "    return f\n",
    "\n",
    "pos2pix_x = def_pos2pix(xlims[0], xres)\n",
    "pos2pix_y = def_pos2pix(ylims[0], yres)\n",
    "\n",
    "pix2pos_x = def_pix2pos(xlims[0], xres)\n",
    "pix2pos_y = def_pix2pos(ylims[0], yres)"
   ]
  },
  {
   "cell_type": "code",
   "execution_count": 14,
   "metadata": {},
   "outputs": [],
   "source": [
    "canvas = ds.Canvas(plot_width=xsize, plot_height=ysize, x_range=xlims, y_range=ylims)"
   ]
  },
  {
   "cell_type": "code",
   "execution_count": 15,
   "metadata": {},
   "outputs": [
    {
     "data": {
      "image/png": "[encoded data removed]",
      "text/plain": [
       "<xarray.Image (y: 594, x: 508)>\n",
       "array([[4278255615, 4278255615, 4278255615, ..., 4278255615, 4278255615,\n",
       "        4278255615],\n",
       "       [4278255615, 4278255615, 4278255615, ..., 4278255615, 4278255615,\n",
       "        4278255615],\n",
       "       [4278255615, 4278255615, 4278255615, ..., 4278255615, 4278255615,\n",
       "        4278255615],\n",
       "       ..., \n",
       "       [4278255615, 4278255615, 4278255615, ..., 4278255615, 4278255615,\n",
       "        4278255615],\n",
       "       [4278255615, 4278255615, 4278255615, ..., 4278255615, 4278255615,\n",
       "        4278255615],\n",
       "       [4278255615, 4278255615, 4278255615, ..., 4278255615, 4278255615,\n",
       "        4278255615]], dtype=uint32)\n",
       "Coordinates:\n",
       "  * y        (y) float64 -261.5 -260.5 -259.5 -258.5 -257.5 -256.5 -255.5 ...\n",
       "  * x        (x) float64 -225.5 -224.5 -223.5 -222.5 -221.5 -220.5 -219.5 ..."
      ]
     },
     "execution_count": 15,
     "metadata": {},
     "output_type": "execute_result"
    }
   ],
   "source": [
    "from datashader import transfer_functions as tf\n",
    "from datashader import reductions\n",
    "\n",
    "img = tf.shade(canvas.points(df,'x','y', agg=reductions.count()), how='eq_hist')\n",
    "img = tf.spread(img, px=1, shape='square')\n",
    "tf.set_background(img, 'yellow')"
   ]
  },
  {
   "cell_type": "code",
   "execution_count": 16,
   "metadata": {},
   "outputs": [],
   "source": [
    "a = np.zeros((xsize,ysize),dtype=int)\n",
    "\n",
    "for i in range(len(data)):\n",
    "    row = data[i]\n",
    "#     print(row)\n",
    "    xi = pos2pix_x(row[0])\n",
    "    xf = pos2pix_x(row[2])\n",
    "    yi = pos2pix_y(row[1])\n",
    "    yf = pos2pix_y(row[3])\n",
    "#     print(xi,yi,xf,yf)\n",
    "    x0 = pix2pos_x(xi)\n",
    "    y0 = pix2pos_y(yi)\n",
    "    a[xi:xf,yi:yf] += 1\n"
   ]
  },
  {
   "cell_type": "code",
   "execution_count": 17,
   "metadata": {},
   "outputs": [
    {
     "data": {
      "text/plain": [
       "<xarray.DataArray (x: 508, y: 594)>\n",
       "array([[0, 0, 0, ..., 0, 0, 0],\n",
       "       [0, 0, 0, ..., 0, 0, 0],\n",
       "       [0, 0, 0, ..., 0, 0, 0],\n",
       "       ..., \n",
       "       [0, 0, 0, ..., 0, 0, 0],\n",
       "       [0, 0, 0, ..., 0, 0, 0],\n",
       "       [0, 0, 0, ..., 0, 0, 0]])\n",
       "Coordinates:\n",
       "  * x        (x) int64 -226 -225 -224 -223 -222 -221 -220 -219 -218 -217 ...\n",
       "  * y        (y) int64 -262 -261 -260 -259 -258 -257 -256 -255 -254 -253 ..."
      ]
     },
     "execution_count": 17,
     "metadata": {},
     "output_type": "execute_result"
    }
   ],
   "source": [
    "# Let's build an xarray from 'a'\n",
    "# xarray have a coordinates attribute ('coords'), apart from dimensions ('dims')\n",
    "\n",
    "xaxis = np.arange(xlims[0], xlims[1], xres)\n",
    "yaxis = np.arange(ylims[0], ylims[1], yres)\n",
    "axx = xr.DataArray(a, dims=['x','y'], coords={'x':xaxis, 'y':yaxis})\n",
    "axx"
   ]
  },
  {
   "cell_type": "code",
   "execution_count": 18,
   "metadata": {},
   "outputs": [
    {
     "data": {
      "image/png": "[encoded data removed]",
      "text/plain": [
       "<xarray.Image (x: 508, y: 594)>\n",
       "array([[0, 0, 0, ..., 0, 0, 0],\n",
       "       [0, 0, 0, ..., 0, 0, 0],\n",
       "       [0, 0, 0, ..., 0, 0, 0],\n",
       "       ..., \n",
       "       [0, 0, 0, ..., 0, 0, 0],\n",
       "       [0, 0, 0, ..., 0, 0, 0],\n",
       "       [0, 0, 0, ..., 0, 0, 0]], dtype=uint32)\n",
       "Coordinates:\n",
       "  * x        (x) int64 -226 -225 -224 -223 -222 -221 -220 -219 -218 -217 ...\n",
       "  * y        (y) int64 -262 -261 -260 -259 -258 -257 -256 -255 -254 -253 ..."
      ]
     },
     "execution_count": 18,
     "metadata": {},
     "output_type": "execute_result"
    }
   ],
   "source": [
    "tf.shade(axx)"
   ]
  },
  {
   "cell_type": "code",
   "execution_count": 19,
   "metadata": {},
   "outputs": [],
   "source": [
    "# dfa = pd.DataFrame(a).stack().rename_axis(['y', 'x']).reset_index(name='count')\n",
    "# dfa['x'] = dfa['x'].apply(pix2pos_x)\n",
    "# dfa['y'] = dfa['y'].apply(pix2pos_y)\n",
    "\n",
    "# df.sort_values(['x', 'y'])[['x', 'y', 'count']].reset_index(drop=True)\n",
    "# dfa = dfa.set_index(['x','y'])\n",
    "# dfa"
   ]
  },
  {
   "cell_type": "code",
   "execution_count": null,
   "metadata": {},
   "outputs": [],
   "source": []
  }
 ],
 "metadata": {
  "kernelspec": {
   "display_name": "Python 3",
   "language": "python",
   "name": "python3"
  },
  "language_info": {
   "codemirror_mode": {
    "name": "ipython",
    "version": 3
   },
   "file_extension": ".py",
   "mimetype": "text/x-python",
   "name": "python",
   "nbconvert_exporter": "python",
   "pygments_lexer": "ipython3",
   "version": "3.6.2"
  }
 },
 "nbformat": 4,
 "nbformat_minor": 2
}
